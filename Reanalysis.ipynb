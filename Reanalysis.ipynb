{
 "cells": [
  {
   "cell_type": "code",
   "execution_count": 1,
   "id": "2238b37f-013d-487d-a933-3dc3de199b20",
   "metadata": {},
   "outputs": [],
   "source": [
    "import pandas as pd\n",
    "import numpy as np\n",
    "import matplotlib.pyplot as plt\n",
    "import seaborn as sns"
   ]
  },
  {
   "cell_type": "code",
   "execution_count": 2,
   "id": "e328c221-c98e-46e5-9cf9-71ccc8f10a3b",
   "metadata": {},
   "outputs": [
    {
     "data": {
      "text/html": [
       "<div>\n",
       "<style scoped>\n",
       "    .dataframe tbody tr th:only-of-type {\n",
       "        vertical-align: middle;\n",
       "    }\n",
       "\n",
       "    .dataframe tbody tr th {\n",
       "        vertical-align: top;\n",
       "    }\n",
       "\n",
       "    .dataframe thead th {\n",
       "        text-align: right;\n",
       "    }\n",
       "</style>\n",
       "<table border=\"1\" class=\"dataframe\">\n",
       "  <thead>\n",
       "    <tr style=\"text-align: right;\">\n",
       "      <th></th>\n",
       "      <th>u_id</th>\n",
       "      <th>strain_slug</th>\n",
       "      <th>anon_producer</th>\n",
       "      <th>product_category</th>\n",
       "      <th>strain_category</th>\n",
       "      <th>strain_popularity</th>\n",
       "      <th>chemotype</th>\n",
       "      <th>has_cannabs</th>\n",
       "      <th>chemotype_ratio</th>\n",
       "      <th>tot_thc</th>\n",
       "      <th>...</th>\n",
       "      <th>humulene</th>\n",
       "      <th>caryophyllene</th>\n",
       "      <th>limonene</th>\n",
       "      <th>linalool</th>\n",
       "      <th>myrcene</th>\n",
       "      <th>bisabolol</th>\n",
       "      <th>b_pinene</th>\n",
       "      <th>a_terpinene</th>\n",
       "      <th>terpinolene</th>\n",
       "      <th>a_pinene</th>\n",
       "    </tr>\n",
       "  </thead>\n",
       "  <tbody>\n",
       "    <tr>\n",
       "      <th>0</th>\n",
       "      <td>0</td>\n",
       "      <td>NaN</td>\n",
       "      <td>1046</td>\n",
       "      <td>FLOWER</td>\n",
       "      <td>None</td>\n",
       "      <td>NaN</td>\n",
       "      <td>THC-Dom</td>\n",
       "      <td>True</td>\n",
       "      <td>425.819531</td>\n",
       "      <td>20.103098</td>\n",
       "      <td>...</td>\n",
       "      <td>0.217018</td>\n",
       "      <td>0.560682</td>\n",
       "      <td>0.159195</td>\n",
       "      <td>0.032776</td>\n",
       "      <td>0.177072</td>\n",
       "      <td>0.029597</td>\n",
       "      <td>0.114252</td>\n",
       "      <td>0.010000</td>\n",
       "      <td>0.321310</td>\n",
       "      <td>0.075442</td>\n",
       "    </tr>\n",
       "    <tr>\n",
       "      <th>1</th>\n",
       "      <td>1</td>\n",
       "      <td>NaN</td>\n",
       "      <td>1046</td>\n",
       "      <td>FLOWER</td>\n",
       "      <td>None</td>\n",
       "      <td>NaN</td>\n",
       "      <td>THC-Dom</td>\n",
       "      <td>True</td>\n",
       "      <td>207.384250</td>\n",
       "      <td>17.775078</td>\n",
       "      <td>...</td>\n",
       "      <td>0.143383</td>\n",
       "      <td>0.315326</td>\n",
       "      <td>0.127196</td>\n",
       "      <td>0.010000</td>\n",
       "      <td>0.199761</td>\n",
       "      <td>0.010000</td>\n",
       "      <td>0.069859</td>\n",
       "      <td>0.012731</td>\n",
       "      <td>0.365565</td>\n",
       "      <td>0.060920</td>\n",
       "    </tr>\n",
       "    <tr>\n",
       "      <th>2</th>\n",
       "      <td>2</td>\n",
       "      <td>NaN</td>\n",
       "      <td>1046</td>\n",
       "      <td>FLOWER</td>\n",
       "      <td>None</td>\n",
       "      <td>NaN</td>\n",
       "      <td>THC-Dom</td>\n",
       "      <td>True</td>\n",
       "      <td>230.122927</td>\n",
       "      <td>18.196924</td>\n",
       "      <td>...</td>\n",
       "      <td>0.140367</td>\n",
       "      <td>0.306051</td>\n",
       "      <td>0.111072</td>\n",
       "      <td>0.022061</td>\n",
       "      <td>0.177568</td>\n",
       "      <td>0.010000</td>\n",
       "      <td>0.057884</td>\n",
       "      <td>0.011981</td>\n",
       "      <td>0.336826</td>\n",
       "      <td>0.049393</td>\n",
       "    </tr>\n",
       "    <tr>\n",
       "      <th>3</th>\n",
       "      <td>3</td>\n",
       "      <td>NaN</td>\n",
       "      <td>1046</td>\n",
       "      <td>FLOWER</td>\n",
       "      <td>None</td>\n",
       "      <td>NaN</td>\n",
       "      <td>THC-Dom</td>\n",
       "      <td>True</td>\n",
       "      <td>321.904704</td>\n",
       "      <td>19.302718</td>\n",
       "      <td>...</td>\n",
       "      <td>0.167629</td>\n",
       "      <td>0.385306</td>\n",
       "      <td>0.134872</td>\n",
       "      <td>0.056048</td>\n",
       "      <td>0.368547</td>\n",
       "      <td>0.048849</td>\n",
       "      <td>0.035711</td>\n",
       "      <td>0.000000</td>\n",
       "      <td>0.000000</td>\n",
       "      <td>0.020058</td>\n",
       "    </tr>\n",
       "    <tr>\n",
       "      <th>4</th>\n",
       "      <td>4</td>\n",
       "      <td>NaN</td>\n",
       "      <td>1046</td>\n",
       "      <td>FLOWER</td>\n",
       "      <td>None</td>\n",
       "      <td>NaN</td>\n",
       "      <td>THC-Dom</td>\n",
       "      <td>True</td>\n",
       "      <td>253.209507</td>\n",
       "      <td>18.224250</td>\n",
       "      <td>...</td>\n",
       "      <td>0.127600</td>\n",
       "      <td>0.317787</td>\n",
       "      <td>0.116072</td>\n",
       "      <td>0.029350</td>\n",
       "      <td>0.099418</td>\n",
       "      <td>0.010000</td>\n",
       "      <td>0.083642</td>\n",
       "      <td>0.010000</td>\n",
       "      <td>0.179980</td>\n",
       "      <td>0.056437</td>\n",
       "    </tr>\n",
       "  </tbody>\n",
       "</table>\n",
       "<p>5 rows × 33 columns</p>\n",
       "</div>"
      ],
      "text/plain": [
       "   u_id strain_slug anon_producer product_category strain_category  \\\n",
       "0     0         NaN          1046           FLOWER            None   \n",
       "1     1         NaN          1046           FLOWER            None   \n",
       "2     2         NaN          1046           FLOWER            None   \n",
       "3     3         NaN          1046           FLOWER            None   \n",
       "4     4         NaN          1046           FLOWER            None   \n",
       "\n",
       "   strain_popularity chemotype  has_cannabs  chemotype_ratio    tot_thc  ...  \\\n",
       "0                NaN   THC-Dom         True       425.819531  20.103098  ...   \n",
       "1                NaN   THC-Dom         True       207.384250  17.775078  ...   \n",
       "2                NaN   THC-Dom         True       230.122927  18.196924  ...   \n",
       "3                NaN   THC-Dom         True       321.904704  19.302718  ...   \n",
       "4                NaN   THC-Dom         True       253.209507  18.224250  ...   \n",
       "\n",
       "   humulene  caryophyllene  limonene  linalool   myrcene  bisabolol  b_pinene  \\\n",
       "0  0.217018       0.560682  0.159195  0.032776  0.177072   0.029597  0.114252   \n",
       "1  0.143383       0.315326  0.127196  0.010000  0.199761   0.010000  0.069859   \n",
       "2  0.140367       0.306051  0.111072  0.022061  0.177568   0.010000  0.057884   \n",
       "3  0.167629       0.385306  0.134872  0.056048  0.368547   0.048849  0.035711   \n",
       "4  0.127600       0.317787  0.116072  0.029350  0.099418   0.010000  0.083642   \n",
       "\n",
       "   a_terpinene terpinolene  a_pinene  \n",
       "0     0.010000    0.321310  0.075442  \n",
       "1     0.012731    0.365565  0.060920  \n",
       "2     0.011981    0.336826  0.049393  \n",
       "3     0.000000    0.000000  0.020058  \n",
       "4     0.010000    0.179980  0.056437  \n",
       "\n",
       "[5 rows x 33 columns]"
      ]
     },
     "execution_count": 2,
     "metadata": {},
     "output_type": "execute_result"
    }
   ],
   "source": [
    "dat = pd.read_csv('data/preproc_lab_data_pub_20220218_nl.csv', dtype={'anon_producer':str})\n",
    "dat.head()"
   ]
  },
  {
   "cell_type": "code",
   "execution_count": 3,
   "id": "7d2c556b-abb8-41a4-97e8-135a1eeed537",
   "metadata": {},
   "outputs": [
    {
     "data": {
      "text/plain": [
       "array(['THC-Dom', 'CBD-Dom', 'Bal THC/CBD'], dtype=object)"
      ]
     },
     "execution_count": 3,
     "metadata": {},
     "output_type": "execute_result"
    }
   ],
   "source": [
    "dat['chemotype'].unique()"
   ]
  },
  {
   "cell_type": "code",
   "execution_count": 4,
   "id": "d8520db4-39ba-40a6-9224-4ce8db352c8f",
   "metadata": {},
   "outputs": [
    {
     "data": {
      "text/plain": [
       "Index(['u_id', 'strain_slug', 'anon_producer', 'product_category',\n",
       "       'strain_category', 'strain_popularity', 'chemotype', 'has_cannabs',\n",
       "       'chemotype_ratio', 'tot_thc', 'tot_cbd', 'tot_cbg', 'tot_cbc',\n",
       "       'tot_cbn', 'tot_thcv', 'has_terps', 'total_terps', 'terp_var',\n",
       "       'top_terp_f', 'tot_ocimene', 'camphene', 'g_terpinene',\n",
       "       'tot_nerolidol_ct', 'humulene', 'caryophyllene', 'limonene', 'linalool',\n",
       "       'myrcene', 'bisabolol', 'b_pinene', 'a_terpinene', 'terpinolene',\n",
       "       'a_pinene'],\n",
       "      dtype='object')"
      ]
     },
     "execution_count": 4,
     "metadata": {},
     "output_type": "execute_result"
    }
   ],
   "source": [
    "dat.columns"
   ]
  },
  {
   "cell_type": "code",
   "execution_count": 5,
   "id": "4868c271-40d4-43ee-9481-432b582381ae",
   "metadata": {},
   "outputs": [
    {
     "data": {
      "text/plain": [
       "array(['None', 'Hybrid', 'Indica', 'Sativa'], dtype=object)"
      ]
     },
     "execution_count": 5,
     "metadata": {},
     "output_type": "execute_result"
    }
   ],
   "source": [
    "dat['strain_category'].unique()"
   ]
  },
  {
   "cell_type": "code",
   "execution_count": 6,
   "id": "01c1f7eb-cded-4f19-aa5a-c5fdaa939c8b",
   "metadata": {},
   "outputs": [
    {
     "data": {
      "text/plain": [
       "array([       nan, 0.06326198, 0.0097445 , ..., 0.00038901, 0.0319731 ,\n",
       "       0.00281685])"
      ]
     },
     "execution_count": 6,
     "metadata": {},
     "output_type": "execute_result"
    }
   ],
   "source": [
    "dat['strain_popularity'].unique()"
   ]
  },
  {
   "cell_type": "code",
   "execution_count": 7,
   "id": "b29b3404-f305-4bc5-b3be-d64e47d9134a",
   "metadata": {},
   "outputs": [
    {
     "data": {
      "text/html": [
       "<div>\n",
       "<style scoped>\n",
       "    .dataframe tbody tr th:only-of-type {\n",
       "        vertical-align: middle;\n",
       "    }\n",
       "\n",
       "    .dataframe tbody tr th {\n",
       "        vertical-align: top;\n",
       "    }\n",
       "\n",
       "    .dataframe thead th {\n",
       "        text-align: right;\n",
       "    }\n",
       "</style>\n",
       "<table border=\"1\" class=\"dataframe\">\n",
       "  <thead>\n",
       "    <tr style=\"text-align: right;\">\n",
       "      <th></th>\n",
       "      <th>chemotype</th>\n",
       "      <th>tot_thc</th>\n",
       "      <th>tot_cbd</th>\n",
       "      <th>myrcene</th>\n",
       "      <th>linalool</th>\n",
       "      <th>a_terpinene</th>\n",
       "      <th>g_terpinene</th>\n",
       "    </tr>\n",
       "  </thead>\n",
       "  <tbody>\n",
       "    <tr>\n",
       "      <th>10</th>\n",
       "      <td>THC-Dom</td>\n",
       "      <td>20.772720</td>\n",
       "      <td>0.054472</td>\n",
       "      <td>1.640925</td>\n",
       "      <td>0.114341</td>\n",
       "      <td>0.0</td>\n",
       "      <td>0.01</td>\n",
       "    </tr>\n",
       "    <tr>\n",
       "      <th>11</th>\n",
       "      <td>THC-Dom</td>\n",
       "      <td>19.089005</td>\n",
       "      <td>0.057215</td>\n",
       "      <td>2.439003</td>\n",
       "      <td>0.149473</td>\n",
       "      <td>0.0</td>\n",
       "      <td>0.01</td>\n",
       "    </tr>\n",
       "    <tr>\n",
       "      <th>23</th>\n",
       "      <td>THC-Dom</td>\n",
       "      <td>19.352578</td>\n",
       "      <td>0.061449</td>\n",
       "      <td>0.617441</td>\n",
       "      <td>0.229732</td>\n",
       "      <td>0.0</td>\n",
       "      <td>0.01</td>\n",
       "    </tr>\n",
       "    <tr>\n",
       "      <th>24</th>\n",
       "      <td>THC-Dom</td>\n",
       "      <td>17.532786</td>\n",
       "      <td>0.048961</td>\n",
       "      <td>0.307701</td>\n",
       "      <td>0.110549</td>\n",
       "      <td>0.0</td>\n",
       "      <td>0.00</td>\n",
       "    </tr>\n",
       "    <tr>\n",
       "      <th>25</th>\n",
       "      <td>THC-Dom</td>\n",
       "      <td>20.379907</td>\n",
       "      <td>0.048114</td>\n",
       "      <td>0.214784</td>\n",
       "      <td>0.239568</td>\n",
       "      <td>0.0</td>\n",
       "      <td>0.00</td>\n",
       "    </tr>\n",
       "    <tr>\n",
       "      <th>...</th>\n",
       "      <td>...</td>\n",
       "      <td>...</td>\n",
       "      <td>...</td>\n",
       "      <td>...</td>\n",
       "      <td>...</td>\n",
       "      <td>...</td>\n",
       "      <td>...</td>\n",
       "    </tr>\n",
       "    <tr>\n",
       "      <th>88257</th>\n",
       "      <td>THC-Dom</td>\n",
       "      <td>26.597920</td>\n",
       "      <td>0.061390</td>\n",
       "      <td>0.205000</td>\n",
       "      <td>0.112000</td>\n",
       "      <td>0.0</td>\n",
       "      <td>0.00</td>\n",
       "    </tr>\n",
       "    <tr>\n",
       "      <th>88559</th>\n",
       "      <td>THC-Dom</td>\n",
       "      <td>18.716040</td>\n",
       "      <td>0.061390</td>\n",
       "      <td>1.550000</td>\n",
       "      <td>0.139000</td>\n",
       "      <td>0.0</td>\n",
       "      <td>0.00</td>\n",
       "    </tr>\n",
       "    <tr>\n",
       "      <th>88980</th>\n",
       "      <td>THC-Dom</td>\n",
       "      <td>14.578580</td>\n",
       "      <td>0.043850</td>\n",
       "      <td>0.533000</td>\n",
       "      <td>0.030000</td>\n",
       "      <td>0.0</td>\n",
       "      <td>0.00</td>\n",
       "    </tr>\n",
       "    <tr>\n",
       "      <th>88998</th>\n",
       "      <td>THC-Dom</td>\n",
       "      <td>19.447800</td>\n",
       "      <td>0.052620</td>\n",
       "      <td>1.517000</td>\n",
       "      <td>0.139000</td>\n",
       "      <td>0.0</td>\n",
       "      <td>0.00</td>\n",
       "    </tr>\n",
       "    <tr>\n",
       "      <th>88999</th>\n",
       "      <td>THC-Dom</td>\n",
       "      <td>21.103190</td>\n",
       "      <td>0.043850</td>\n",
       "      <td>0.717000</td>\n",
       "      <td>0.153000</td>\n",
       "      <td>0.0</td>\n",
       "      <td>0.00</td>\n",
       "    </tr>\n",
       "  </tbody>\n",
       "</table>\n",
       "<p>16994 rows × 7 columns</p>\n",
       "</div>"
      ],
      "text/plain": [
       "      chemotype    tot_thc   tot_cbd   myrcene  linalool  a_terpinene  \\\n",
       "10      THC-Dom  20.772720  0.054472  1.640925  0.114341          0.0   \n",
       "11      THC-Dom  19.089005  0.057215  2.439003  0.149473          0.0   \n",
       "23      THC-Dom  19.352578  0.061449  0.617441  0.229732          0.0   \n",
       "24      THC-Dom  17.532786  0.048961  0.307701  0.110549          0.0   \n",
       "25      THC-Dom  20.379907  0.048114  0.214784  0.239568          0.0   \n",
       "...         ...        ...       ...       ...       ...          ...   \n",
       "88257   THC-Dom  26.597920  0.061390  0.205000  0.112000          0.0   \n",
       "88559   THC-Dom  18.716040  0.061390  1.550000  0.139000          0.0   \n",
       "88980   THC-Dom  14.578580  0.043850  0.533000  0.030000          0.0   \n",
       "88998   THC-Dom  19.447800  0.052620  1.517000  0.139000          0.0   \n",
       "88999   THC-Dom  21.103190  0.043850  0.717000  0.153000          0.0   \n",
       "\n",
       "       g_terpinene  \n",
       "10            0.01  \n",
       "11            0.01  \n",
       "23            0.01  \n",
       "24            0.00  \n",
       "25            0.00  \n",
       "...            ...  \n",
       "88257         0.00  \n",
       "88559         0.00  \n",
       "88980         0.00  \n",
       "88998         0.00  \n",
       "88999         0.00  \n",
       "\n",
       "[16994 rows x 7 columns]"
      ]
     },
     "execution_count": 7,
     "metadata": {},
     "output_type": "execute_result"
    }
   ],
   "source": [
    "dat = dat.dropna()\n",
    "df = dat[['chemotype', 'tot_thc', 'tot_cbd', 'myrcene', 'linalool', 'a_terpinene', 'g_terpinene']]\n",
    "df"
   ]
  },
  {
   "cell_type": "code",
   "execution_count": 8,
   "id": "20e7146b-291d-41dc-b857-af8f3f9bcfa3",
   "metadata": {},
   "outputs": [
    {
     "data": {
      "text/html": [
       "<div>\n",
       "<style scoped>\n",
       "    .dataframe tbody tr th:only-of-type {\n",
       "        vertical-align: middle;\n",
       "    }\n",
       "\n",
       "    .dataframe tbody tr th {\n",
       "        vertical-align: top;\n",
       "    }\n",
       "\n",
       "    .dataframe thead th {\n",
       "        text-align: right;\n",
       "    }\n",
       "</style>\n",
       "<table border=\"1\" class=\"dataframe\">\n",
       "  <thead>\n",
       "    <tr style=\"text-align: right;\">\n",
       "      <th></th>\n",
       "      <th>tot_thc</th>\n",
       "      <th>tot_cbd</th>\n",
       "      <th>myrcene</th>\n",
       "      <th>linalool</th>\n",
       "      <th>a_terpinene</th>\n",
       "      <th>g_terpinene</th>\n",
       "    </tr>\n",
       "  </thead>\n",
       "  <tbody>\n",
       "    <tr>\n",
       "      <th>tot_thc</th>\n",
       "      <td>1.000000</td>\n",
       "      <td>-0.527098</td>\n",
       "      <td>0.053250</td>\n",
       "      <td>0.229923</td>\n",
       "      <td>0.017759</td>\n",
       "      <td>0.022114</td>\n",
       "    </tr>\n",
       "    <tr>\n",
       "      <th>tot_cbd</th>\n",
       "      <td>-0.527098</td>\n",
       "      <td>1.000000</td>\n",
       "      <td>0.051589</td>\n",
       "      <td>-0.050483</td>\n",
       "      <td>0.003832</td>\n",
       "      <td>0.001333</td>\n",
       "    </tr>\n",
       "    <tr>\n",
       "      <th>myrcene</th>\n",
       "      <td>0.053250</td>\n",
       "      <td>0.051589</td>\n",
       "      <td>1.000000</td>\n",
       "      <td>-0.040251</td>\n",
       "      <td>-0.056392</td>\n",
       "      <td>-0.096403</td>\n",
       "    </tr>\n",
       "    <tr>\n",
       "      <th>linalool</th>\n",
       "      <td>0.229923</td>\n",
       "      <td>-0.050483</td>\n",
       "      <td>-0.040251</td>\n",
       "      <td>1.000000</td>\n",
       "      <td>-0.033820</td>\n",
       "      <td>0.266214</td>\n",
       "    </tr>\n",
       "    <tr>\n",
       "      <th>a_terpinene</th>\n",
       "      <td>0.017759</td>\n",
       "      <td>0.003832</td>\n",
       "      <td>-0.056392</td>\n",
       "      <td>-0.033820</td>\n",
       "      <td>1.000000</td>\n",
       "      <td>0.061941</td>\n",
       "    </tr>\n",
       "    <tr>\n",
       "      <th>g_terpinene</th>\n",
       "      <td>0.022114</td>\n",
       "      <td>0.001333</td>\n",
       "      <td>-0.096403</td>\n",
       "      <td>0.266214</td>\n",
       "      <td>0.061941</td>\n",
       "      <td>1.000000</td>\n",
       "    </tr>\n",
       "  </tbody>\n",
       "</table>\n",
       "</div>"
      ],
      "text/plain": [
       "              tot_thc   tot_cbd   myrcene  linalool  a_terpinene  g_terpinene\n",
       "tot_thc      1.000000 -0.527098  0.053250  0.229923     0.017759     0.022114\n",
       "tot_cbd     -0.527098  1.000000  0.051589 -0.050483     0.003832     0.001333\n",
       "myrcene      0.053250  0.051589  1.000000 -0.040251    -0.056392    -0.096403\n",
       "linalool     0.229923 -0.050483 -0.040251  1.000000    -0.033820     0.266214\n",
       "a_terpinene  0.017759  0.003832 -0.056392 -0.033820     1.000000     0.061941\n",
       "g_terpinene  0.022114  0.001333 -0.096403  0.266214     0.061941     1.000000"
      ]
     },
     "execution_count": 8,
     "metadata": {},
     "output_type": "execute_result"
    }
   ],
   "source": [
    "cor_canab = df.corr(numeric_only = True)\n",
    "cor_canab"
   ]
  },
  {
   "cell_type": "code",
   "execution_count": 9,
   "id": "35027e3b-8309-4386-96b6-3c598722c913",
   "metadata": {},
   "outputs": [
    {
     "data": {
      "image/png": "[encoded data removed]",
      "text/plain": [
       "<Figure size 640x480 with 2 Axes>"
      ]
     },
     "metadata": {},
     "output_type": "display_data"
    }
   ],
   "source": [
    "sns.heatmap(cor_canab);"
   ]
  },
  {
   "cell_type": "code",
   "execution_count": 10,
   "id": "f804ac85-4c3c-43ba-b26e-3c00d5d81c5d",
   "metadata": {},
   "outputs": [
    {
     "data": {
      "text/html": [
       "<div>\n",
       "<style scoped>\n",
       "    .dataframe tbody tr th:only-of-type {\n",
       "        vertical-align: middle;\n",
       "    }\n",
       "\n",
       "    .dataframe tbody tr th {\n",
       "        vertical-align: top;\n",
       "    }\n",
       "\n",
       "    .dataframe thead th {\n",
       "        text-align: right;\n",
       "    }\n",
       "</style>\n",
       "<table border=\"1\" class=\"dataframe\">\n",
       "  <thead>\n",
       "    <tr style=\"text-align: right;\">\n",
       "      <th></th>\n",
       "      <th>tot_thc</th>\n",
       "      <th>tot_cbd</th>\n",
       "      <th>myrcene</th>\n",
       "      <th>linalool</th>\n",
       "      <th>a_terpinene</th>\n",
       "      <th>g_terpinene</th>\n",
       "    </tr>\n",
       "    <tr>\n",
       "      <th>chemotype</th>\n",
       "      <th></th>\n",
       "      <th></th>\n",
       "      <th></th>\n",
       "      <th></th>\n",
       "      <th></th>\n",
       "      <th></th>\n",
       "    </tr>\n",
       "  </thead>\n",
       "  <tbody>\n",
       "    <tr>\n",
       "      <th>Bal THC/CBD</th>\n",
       "      <td>2455.786482</td>\n",
       "      <td>3025.034601</td>\n",
       "      <td>191.895258</td>\n",
       "      <td>25.528049</td>\n",
       "      <td>6.258698</td>\n",
       "      <td>2.972826</td>\n",
       "    </tr>\n",
       "    <tr>\n",
       "      <th>CBD-Dom</th>\n",
       "      <td>180.446071</td>\n",
       "      <td>3902.096502</td>\n",
       "      <td>143.546856</td>\n",
       "      <td>18.447930</td>\n",
       "      <td>3.253000</td>\n",
       "      <td>1.658328</td>\n",
       "    </tr>\n",
       "    <tr>\n",
       "      <th>THC-Dom</th>\n",
       "      <td>323130.139244</td>\n",
       "      <td>1078.854532</td>\n",
       "      <td>7222.437635</td>\n",
       "      <td>1785.754074</td>\n",
       "      <td>220.406883</td>\n",
       "      <td>117.679854</td>\n",
       "    </tr>\n",
       "  </tbody>\n",
       "</table>\n",
       "</div>"
      ],
      "text/plain": [
       "                   tot_thc      tot_cbd      myrcene     linalool  \\\n",
       "chemotype                                                           \n",
       "Bal THC/CBD    2455.786482  3025.034601   191.895258    25.528049   \n",
       "CBD-Dom         180.446071  3902.096502   143.546856    18.447930   \n",
       "THC-Dom      323130.139244  1078.854532  7222.437635  1785.754074   \n",
       "\n",
       "             a_terpinene  g_terpinene  \n",
       "chemotype                              \n",
       "Bal THC/CBD     6.258698     2.972826  \n",
       "CBD-Dom         3.253000     1.658328  \n",
       "THC-Dom       220.406883   117.679854  "
      ]
     },
     "execution_count": 10,
     "metadata": {},
     "output_type": "execute_result"
    }
   ],
   "source": [
    "grouped_df = df.groupby('chemotype').sum()\n",
    "grouped_df"
   ]
  },
  {
   "cell_type": "code",
   "execution_count": 11,
   "id": "2f1199c8-c041-4e7f-9aaf-e2004894cdd4",
   "metadata": {},
   "outputs": [
    {
     "data": {
      "text/plain": [
       "chemotype\n",
       "Bal THC/CBD    0.078140\n",
       "CBD-Dom        0.795511\n",
       "THC-Dom        0.022351\n",
       "dtype: float64"
      ]
     },
     "execution_count": 11,
     "metadata": {},
     "output_type": "execute_result"
    }
   ],
   "source": [
    "grouped_df['myrcene'] / grouped_df['tot_thc']"
   ]
  },
  {
   "cell_type": "code",
   "execution_count": 12,
   "id": "0ccb3131-d720-4790-aabd-7379669164e9",
   "metadata": {},
   "outputs": [
    {
     "data": {
      "text/plain": [
       "chemotype\n",
       "Bal THC/CBD    0.010395\n",
       "CBD-Dom        0.102235\n",
       "THC-Dom        0.005526\n",
       "dtype: float64"
      ]
     },
     "execution_count": 12,
     "metadata": {},
     "output_type": "execute_result"
    }
   ],
   "source": [
    "grouped_df['linalool'] / grouped_df['tot_thc']"
   ]
  },
  {
   "cell_type": "code",
   "execution_count": 13,
   "id": "3e4977c9-fbe7-41a9-8422-9ae35789dab9",
   "metadata": {},
   "outputs": [
    {
     "data": {
      "text/plain": [
       "chemotype\n",
       "Bal THC/CBD    0.002549\n",
       "CBD-Dom        0.018028\n",
       "THC-Dom        0.000682\n",
       "dtype: float64"
      ]
     },
     "execution_count": 13,
     "metadata": {},
     "output_type": "execute_result"
    }
   ],
   "source": [
    "grouped_df['a_terpinene'] / grouped_df['tot_thc']"
   ]
  },
  {
   "cell_type": "code",
   "execution_count": 14,
   "id": "ce425422-7e87-4c91-bb60-994043c140ec",
   "metadata": {},
   "outputs": [
    {
     "data": {
      "text/plain": [
       "chemotype\n",
       "Bal THC/CBD    0.001211\n",
       "CBD-Dom        0.009190\n",
       "THC-Dom        0.000364\n",
       "dtype: float64"
      ]
     },
     "execution_count": 14,
     "metadata": {},
     "output_type": "execute_result"
    }
   ],
   "source": [
    "grouped_df['g_terpinene'] / grouped_df['tot_thc']"
   ]
  },
  {
   "cell_type": "code",
   "execution_count": 15,
   "id": "f8abcc6a-e610-4b02-89cd-03aefcf32a16",
   "metadata": {},
   "outputs": [
    {
     "data": {
      "text/plain": [
       "chemotype\n",
       "Bal THC/CBD    0.063436\n",
       "CBD-Dom        0.036787\n",
       "THC-Dom        6.694543\n",
       "dtype: float64"
      ]
     },
     "execution_count": 15,
     "metadata": {},
     "output_type": "execute_result"
    }
   ],
   "source": [
    "grouped_df['myrcene'] / grouped_df['tot_cbd']"
   ]
  },
  {
   "cell_type": "code",
   "execution_count": 16,
   "id": "32967a3e-ec44-44ee-a26f-3a54b0d28d87",
   "metadata": {},
   "outputs": [
    {
     "data": {
      "text/plain": [
       "chemotype\n",
       "Bal THC/CBD    0.008439\n",
       "CBD-Dom        0.004728\n",
       "THC-Dom        1.655232\n",
       "dtype: float64"
      ]
     },
     "execution_count": 16,
     "metadata": {},
     "output_type": "execute_result"
    }
   ],
   "source": [
    "grouped_df['linalool'] / grouped_df['tot_cbd']"
   ]
  },
  {
   "cell_type": "code",
   "execution_count": 17,
   "id": "f12633a5-c434-4da9-85d5-943efcc0dfa1",
   "metadata": {},
   "outputs": [
    {
     "data": {
      "text/plain": [
       "chemotype\n",
       "Bal THC/CBD    0.002069\n",
       "CBD-Dom        0.000834\n",
       "THC-Dom        0.204297\n",
       "dtype: float64"
      ]
     },
     "execution_count": 17,
     "metadata": {},
     "output_type": "execute_result"
    }
   ],
   "source": [
    "grouped_df['a_terpinene'] / grouped_df['tot_cbd']"
   ]
  },
  {
   "cell_type": "code",
   "execution_count": 18,
   "id": "3132535c-d73d-4ae0-bda2-8bfba1b45f61",
   "metadata": {},
   "outputs": [
    {
     "data": {
      "text/plain": [
       "chemotype\n",
       "Bal THC/CBD    0.000983\n",
       "CBD-Dom        0.000425\n",
       "THC-Dom        0.109079\n",
       "dtype: float64"
      ]
     },
     "execution_count": 18,
     "metadata": {},
     "output_type": "execute_result"
    }
   ],
   "source": [
    "grouped_df['g_terpinene'] / grouped_df['tot_cbd']"
   ]
  },
  {
   "cell_type": "code",
   "execution_count": null,
   "id": "608b5c08-efb2-4137-9769-0e5428093bc4",
   "metadata": {},
   "outputs": [],
   "source": []
  }
 ],
 "metadata": {
  "kernelspec": {
   "display_name": "Python 3 (ipykernel)",
   "language": "python",
   "name": "python3"
  },
  "language_info": {
   "codemirror_mode": {
    "name": "ipython",
    "version": 3
   },
   "file_extension": ".py",
   "mimetype": "text/x-python",
   "name": "python",
   "nbconvert_exporter": "python",
   "pygments_lexer": "ipython3",
   "version": "3.10.8"
  }
 },
 "nbformat": 4,
 "nbformat_minor": 5
}
