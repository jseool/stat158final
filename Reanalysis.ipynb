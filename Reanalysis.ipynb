{
 "cells": [
  {
   "cell_type": "code",
   "execution_count": 1,
   "id": "2238b37f-013d-487d-a933-3dc3de199b20",
   "metadata": {},
   "outputs": [],
   "source": [
    "import pandas as pd\n",
    "import numpy as np\n",
    "import matplotlib.pyplot as plt"
   ]
  },
  {
   "cell_type": "code",
   "execution_count": 3,
   "id": "e328c221-c98e-46e5-9cf9-71ccc8f10a3b",
   "metadata": {},
   "outputs": [
    {
     "data": {
      "text/html": [
       "<div>\n",
       "<style scoped>\n",
       "    .dataframe tbody tr th:only-of-type {\n",
       "        vertical-align: middle;\n",
       "    }\n",
       "\n",
       "    .dataframe tbody tr th {\n",
       "        vertical-align: top;\n",
       "    }\n",
       "\n",
       "    .dataframe thead th {\n",
       "        text-align: right;\n",
       "    }\n",
       "</style>\n",
       "<table border=\"1\" class=\"dataframe\">\n",
       "  <thead>\n",
       "    <tr style=\"text-align: right;\">\n",
       "      <th></th>\n",
       "      <th>u_id</th>\n",
       "      <th>strain_slug</th>\n",
       "      <th>anon_producer</th>\n",
       "      <th>product_category</th>\n",
       "      <th>strain_category</th>\n",
       "      <th>strain_popularity</th>\n",
       "      <th>chemotype</th>\n",
       "      <th>has_cannabs</th>\n",
       "      <th>chemotype_ratio</th>\n",
       "      <th>tot_thc</th>\n",
       "      <th>...</th>\n",
       "      <th>humulene</th>\n",
       "      <th>caryophyllene</th>\n",
       "      <th>limonene</th>\n",
       "      <th>linalool</th>\n",
       "      <th>myrcene</th>\n",
       "      <th>bisabolol</th>\n",
       "      <th>b_pinene</th>\n",
       "      <th>a_terpinene</th>\n",
       "      <th>terpinolene</th>\n",
       "      <th>a_pinene</th>\n",
       "    </tr>\n",
       "  </thead>\n",
       "  <tbody>\n",
       "    <tr>\n",
       "      <th>0</th>\n",
       "      <td>0</td>\n",
       "      <td>NaN</td>\n",
       "      <td>1046</td>\n",
       "      <td>FLOWER</td>\n",
       "      <td>None</td>\n",
       "      <td>NaN</td>\n",
       "      <td>THC-Dom</td>\n",
       "      <td>True</td>\n",
       "      <td>425.819531</td>\n",
       "      <td>20.103098</td>\n",
       "      <td>...</td>\n",
       "      <td>0.217018</td>\n",
       "      <td>0.560682</td>\n",
       "      <td>0.159195</td>\n",
       "      <td>0.032776</td>\n",
       "      <td>0.177072</td>\n",
       "      <td>0.029597</td>\n",
       "      <td>0.114252</td>\n",
       "      <td>0.010000</td>\n",
       "      <td>0.321310</td>\n",
       "      <td>0.075442</td>\n",
       "    </tr>\n",
       "    <tr>\n",
       "      <th>1</th>\n",
       "      <td>1</td>\n",
       "      <td>NaN</td>\n",
       "      <td>1046</td>\n",
       "      <td>FLOWER</td>\n",
       "      <td>None</td>\n",
       "      <td>NaN</td>\n",
       "      <td>THC-Dom</td>\n",
       "      <td>True</td>\n",
       "      <td>207.384250</td>\n",
       "      <td>17.775078</td>\n",
       "      <td>...</td>\n",
       "      <td>0.143383</td>\n",
       "      <td>0.315326</td>\n",
       "      <td>0.127196</td>\n",
       "      <td>0.010000</td>\n",
       "      <td>0.199761</td>\n",
       "      <td>0.010000</td>\n",
       "      <td>0.069859</td>\n",
       "      <td>0.012731</td>\n",
       "      <td>0.365565</td>\n",
       "      <td>0.060920</td>\n",
       "    </tr>\n",
       "    <tr>\n",
       "      <th>2</th>\n",
       "      <td>2</td>\n",
       "      <td>NaN</td>\n",
       "      <td>1046</td>\n",
       "      <td>FLOWER</td>\n",
       "      <td>None</td>\n",
       "      <td>NaN</td>\n",
       "      <td>THC-Dom</td>\n",
       "      <td>True</td>\n",
       "      <td>230.122927</td>\n",
       "      <td>18.196924</td>\n",
       "      <td>...</td>\n",
       "      <td>0.140367</td>\n",
       "      <td>0.306051</td>\n",
       "      <td>0.111072</td>\n",
       "      <td>0.022061</td>\n",
       "      <td>0.177568</td>\n",
       "      <td>0.010000</td>\n",
       "      <td>0.057884</td>\n",
       "      <td>0.011981</td>\n",
       "      <td>0.336826</td>\n",
       "      <td>0.049393</td>\n",
       "    </tr>\n",
       "    <tr>\n",
       "      <th>3</th>\n",
       "      <td>3</td>\n",
       "      <td>NaN</td>\n",
       "      <td>1046</td>\n",
       "      <td>FLOWER</td>\n",
       "      <td>None</td>\n",
       "      <td>NaN</td>\n",
       "      <td>THC-Dom</td>\n",
       "      <td>True</td>\n",
       "      <td>321.904704</td>\n",
       "      <td>19.302718</td>\n",
       "      <td>...</td>\n",
       "      <td>0.167629</td>\n",
       "      <td>0.385306</td>\n",
       "      <td>0.134872</td>\n",
       "      <td>0.056048</td>\n",
       "      <td>0.368547</td>\n",
       "      <td>0.048849</td>\n",
       "      <td>0.035711</td>\n",
       "      <td>0.000000</td>\n",
       "      <td>0.000000</td>\n",
       "      <td>0.020058</td>\n",
       "    </tr>\n",
       "    <tr>\n",
       "      <th>4</th>\n",
       "      <td>4</td>\n",
       "      <td>NaN</td>\n",
       "      <td>1046</td>\n",
       "      <td>FLOWER</td>\n",
       "      <td>None</td>\n",
       "      <td>NaN</td>\n",
       "      <td>THC-Dom</td>\n",
       "      <td>True</td>\n",
       "      <td>253.209507</td>\n",
       "      <td>18.224250</td>\n",
       "      <td>...</td>\n",
       "      <td>0.127600</td>\n",
       "      <td>0.317787</td>\n",
       "      <td>0.116072</td>\n",
       "      <td>0.029350</td>\n",
       "      <td>0.099418</td>\n",
       "      <td>0.010000</td>\n",
       "      <td>0.083642</td>\n",
       "      <td>0.010000</td>\n",
       "      <td>0.179980</td>\n",
       "      <td>0.056437</td>\n",
       "    </tr>\n",
       "  </tbody>\n",
       "</table>\n",
       "<p>5 rows × 33 columns</p>\n",
       "</div>"
      ],
      "text/plain": [
       "   u_id strain_slug anon_producer product_category strain_category  \\\n",
       "0     0         NaN          1046           FLOWER            None   \n",
       "1     1         NaN          1046           FLOWER            None   \n",
       "2     2         NaN          1046           FLOWER            None   \n",
       "3     3         NaN          1046           FLOWER            None   \n",
       "4     4         NaN          1046           FLOWER            None   \n",
       "\n",
       "   strain_popularity chemotype  has_cannabs  chemotype_ratio    tot_thc  ...  \\\n",
       "0                NaN   THC-Dom         True       425.819531  20.103098  ...   \n",
       "1                NaN   THC-Dom         True       207.384250  17.775078  ...   \n",
       "2                NaN   THC-Dom         True       230.122927  18.196924  ...   \n",
       "3                NaN   THC-Dom         True       321.904704  19.302718  ...   \n",
       "4                NaN   THC-Dom         True       253.209507  18.224250  ...   \n",
       "\n",
       "   humulene  caryophyllene  limonene  linalool   myrcene  bisabolol  b_pinene  \\\n",
       "0  0.217018       0.560682  0.159195  0.032776  0.177072   0.029597  0.114252   \n",
       "1  0.143383       0.315326  0.127196  0.010000  0.199761   0.010000  0.069859   \n",
       "2  0.140367       0.306051  0.111072  0.022061  0.177568   0.010000  0.057884   \n",
       "3  0.167629       0.385306  0.134872  0.056048  0.368547   0.048849  0.035711   \n",
       "4  0.127600       0.317787  0.116072  0.029350  0.099418   0.010000  0.083642   \n",
       "\n",
       "   a_terpinene terpinolene  a_pinene  \n",
       "0     0.010000    0.321310  0.075442  \n",
       "1     0.012731    0.365565  0.060920  \n",
       "2     0.011981    0.336826  0.049393  \n",
       "3     0.000000    0.000000  0.020058  \n",
       "4     0.010000    0.179980  0.056437  \n",
       "\n",
       "[5 rows x 33 columns]"
      ]
     },
     "execution_count": 3,
     "metadata": {},
     "output_type": "execute_result"
    }
   ],
   "source": [
    "dat = pd.read_csv('data/preproc_lab_data_pub_20220218_nl.csv', dtype={'anon_producer':str})\n",
    "dat.head()"
   ]
  },
  {
   "cell_type": "code",
   "execution_count": 4,
   "id": "7d2c556b-abb8-41a4-97e8-135a1eeed537",
   "metadata": {},
   "outputs": [
    {
     "data": {
      "text/plain": [
       "array(['THC-Dom', 'CBD-Dom', 'Bal THC/CBD'], dtype=object)"
      ]
     },
     "execution_count": 4,
     "metadata": {},
     "output_type": "execute_result"
    }
   ],
   "source": [
    "dat['chemotype'].unique()"
   ]
  },
  {
   "cell_type": "code",
   "execution_count": 6,
   "id": "d8520db4-39ba-40a6-9224-4ce8db352c8f",
   "metadata": {},
   "outputs": [
    {
     "data": {
      "text/plain": [
       "Index(['u_id', 'strain_slug', 'anon_producer', 'product_category',\n",
       "       'strain_category', 'strain_popularity', 'chemotype', 'has_cannabs',\n",
       "       'chemotype_ratio', 'tot_thc', 'tot_cbd', 'tot_cbg', 'tot_cbc',\n",
       "       'tot_cbn', 'tot_thcv', 'has_terps', 'total_terps', 'terp_var',\n",
       "       'top_terp_f', 'tot_ocimene', 'camphene', 'g_terpinene',\n",
       "       'tot_nerolidol_ct', 'humulene', 'caryophyllene', 'limonene', 'linalool',\n",
       "       'myrcene', 'bisabolol', 'b_pinene', 'a_terpinene', 'terpinolene',\n",
       "       'a_pinene'],\n",
       "      dtype='object')"
      ]
     },
     "execution_count": 6,
     "metadata": {},
     "output_type": "execute_result"
    }
   ],
   "source": [
    "dat.columns"
   ]
  },
  {
   "cell_type": "code",
   "execution_count": 7,
   "id": "4868c271-40d4-43ee-9481-432b582381ae",
   "metadata": {},
   "outputs": [
    {
     "data": {
      "text/plain": [
       "array(['None', 'Hybrid', 'Indica', 'Sativa'], dtype=object)"
      ]
     },
     "execution_count": 7,
     "metadata": {},
     "output_type": "execute_result"
    }
   ],
   "source": [
    "dat['strain_category'].unique()"
   ]
  },
  {
   "cell_type": "code",
   "execution_count": 8,
   "id": "01c1f7eb-cded-4f19-aa5a-c5fdaa939c8b",
   "metadata": {},
   "outputs": [
    {
     "data": {
      "text/plain": [
       "array([       nan, 0.06326198, 0.0097445 , ..., 0.00038901, 0.0319731 ,\n",
       "       0.00281685])"
      ]
     },
     "execution_count": 8,
     "metadata": {},
     "output_type": "execute_result"
    }
   ],
   "source": [
    "dat['strain_popularity'].unique()"
   ]
  },
  {
   "cell_type": "code",
   "execution_count": null,
   "id": "b29b3404-f305-4bc5-b3be-d64e47d9134a",
   "metadata": {},
   "outputs": [],
   "source": []
  }
 ],
 "metadata": {
  "kernelspec": {
   "display_name": "Python 3 (ipykernel)",
   "language": "python",
   "name": "python3"
  },
  "language_info": {
   "codemirror_mode": {
    "name": "ipython",
    "version": 3
   },
   "file_extension": ".py",
   "mimetype": "text/x-python",
   "name": "python",
   "nbconvert_exporter": "python",
   "pygments_lexer": "ipython3",
   "version": "3.10.8"
  }
 },
 "nbformat": 4,
 "nbformat_minor": 5
}
